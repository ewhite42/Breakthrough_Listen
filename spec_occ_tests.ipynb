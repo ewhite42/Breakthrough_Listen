{
 "cells": [
  {
   "cell_type": "code",
   "execution_count": 1,
   "metadata": {},
   "outputs": [
    {
     "ename": "NameError",
     "evalue": "name 'outdir' is not defined",
     "output_type": "error",
     "traceback": [
      "\u001b[0;31m---------------------------------------------------------------------------\u001b[0m",
      "\u001b[0;31mNameError\u001b[0m                                 Traceback (most recent call last)",
      "\u001b[0;32m<ipython-input-1-55c71d7c451e>\u001b[0m in \u001b[0;36m<module>\u001b[0;34m\u001b[0m\n\u001b[1;32m     29\u001b[0m \u001b[0;34m\u001b[0m\u001b[0m\n\u001b[1;32m     30\u001b[0m \u001b[0;32mfor\u001b[0m \u001b[0mi\u001b[0m \u001b[0;32min\u001b[0m \u001b[0mrange\u001b[0m\u001b[0;34m(\u001b[0m\u001b[0mlen\u001b[0m\u001b[0;34m(\u001b[0m\u001b[0mdat_files\u001b[0m\u001b[0;34m)\u001b[0m\u001b[0;34m)\u001b[0m\u001b[0;34m:\u001b[0m\u001b[0;34m\u001b[0m\u001b[0;34m\u001b[0m\u001b[0m\n\u001b[0;32m---> 31\u001b[0;31m     \u001b[0mremove_DC_spike\u001b[0m\u001b[0;34m(\u001b[0m\u001b[0mdat_files\u001b[0m\u001b[0;34m[\u001b[0m\u001b[0mi\u001b[0m\u001b[0;34m]\u001b[0m\u001b[0;34m,\u001b[0m \u001b[0moutdir\u001b[0m\u001b[0;34m,\u001b[0m \u001b[0;34m'C'\u001b[0m\u001b[0;34m,\u001b[0m \u001b[0;32mFalse\u001b[0m\u001b[0;34m,\u001b[0m \u001b[0mfil_files\u001b[0m\u001b[0;34m[\u001b[0m\u001b[0mi\u001b[0m\u001b[0;34m]\u001b[0m\u001b[0;34m)\u001b[0m\u001b[0;34m\u001b[0m\u001b[0;34m\u001b[0m\u001b[0m\n\u001b[0m\u001b[1;32m     32\u001b[0m \u001b[0;34m\u001b[0m\u001b[0m\n\u001b[1;32m     33\u001b[0m \u001b[0;31m#remove_DC_spike(dat_files[0], outdir, 'C')\u001b[0m\u001b[0;34m\u001b[0m\u001b[0;34m\u001b[0m\u001b[0;34m\u001b[0m\u001b[0m\n",
      "\u001b[0;31mNameError\u001b[0m: name 'outdir' is not defined"
     ]
    }
   ],
   "source": [
    "#the purpose of this notebook is to experiment with Daniel's\n",
    "#spectral occupancy code and create histograms, statistical \n",
    "#analyses, etc.\n",
    "# 9 April 2021, Ellie White\n",
    "\n",
    "import glob\n",
    "import pylab as plt\n",
    "from spectral_occupancy import calculate_proportion\n",
    "from remove_DC_spike import remove_DC_spike\n",
    "\n",
    "%matplotlib inline\n",
    "\n",
    "#Sofia's dat files\n",
    "\n",
    "#dat_dir = '/datax/scratch/ewhite/gbt_dats/sheikh_etz_dats/bls2/'\n",
    "#dat_files = glob.glob(dat_dir+\"/*.dat\")\n",
    "outdir = '/home/ewhite/sofia_files_no_dc/'\n",
    "\n",
    "dat_lst_file = open('/home/ewhite/dat_file_organization/karen_dat_paths.lst', 'r')\n",
    "h5_fil_lst_file = open('/home/ewhite/dat_file_organization/karen_fil_paths.lst', 'r')\n",
    "\n",
    "dat_files = []\n",
    "for d in dat_lst_file.readlines():\n",
    "    dat_files.append(d.strip())\n",
    "    \n",
    "fil_files = []\n",
    "for f in h5_fil_lst_file.readlines():\n",
    "    fil_files.append(f.strip())\n",
    "\n",
    "for i in range(len(dat_files)):\n",
    "    remove_DC_spike(dat_files[i], outdir, 'C', False, fil_files[i])\n",
    "\n",
    "#remove_DC_spike(dat_files[0], outdir, 'C')\n",
    "\n",
    "no_dc_dats = glob.glob(outdir+\"/*.dat\")\n",
    "bin_edges, prob_hist = calculate_proportion(no_dc_dats, 'C')\n",
    "plt.figure(figsize=(20, 10))\n",
    "plt.bar(bin_edges[:-1], prob_hist, width = .99) \n",
    "plt.xlabel(\"Frequency [Mhz]\")\n",
    "plt.ylabel(\"Fraction of Hits\")\n",
    "plt.title(\"Spectral Occupancy\")\n",
    "plt.savefig('histogram_sofia_dats.png')\n",
    "plt.show()"
   ]
  },
  {
   "cell_type": "code",
   "execution_count": null,
   "metadata": {},
   "outputs": [],
   "source": []
  },
  {
   "cell_type": "code",
   "execution_count": 7,
   "metadata": {},
   "outputs": [
    {
     "name": "stdout",
     "output_type": "stream",
     "text": [
      "blimpy.io.base_reader WARNING  Selection size of 104.00 GB, exceeding our size limit 1.00 GB. Instance created, header loaded, but data not loaded, please try another (t,v) selection.\n",
      "blimpy.io.base_reader WARNING  Selection size of 104.00 GB, exceeding our size limit 1.00 GB. Instance created, header loaded, but data not loaded, please try another (t,v) selection.\n",
      "blimpy.io.base_reader WARNING  Selection size of 104.00 GB, exceeding our size limit 1.00 GB. Instance created, header loaded, but data not loaded, please try another (t,v) selection.\n",
      "blimpy.io.base_reader WARNING  Selection size of 104.00 GB, exceeding our size limit 1.00 GB. Instance created, header loaded, but data not loaded, please try another (t,v) selection.\n",
      "blimpy.io.base_reader WARNING  Selection size of 104.00 GB, exceeding our size limit 1.00 GB. Instance created, header loaded, but data not loaded, please try another (t,v) selection.\n",
      "blimpy.io.base_reader WARNING  Selection size of 104.00 GB, exceeding our size limit 1.00 GB. Instance created, header loaded, but data not loaded, please try another (t,v) selection.\n",
      "blimpy.io.base_reader WARNING  Selection size of 104.00 GB, exceeding our size limit 1.00 GB. Instance created, header loaded, but data not loaded, please try another (t,v) selection.\n",
      "blimpy.io.base_reader WARNING  Selection size of 104.00 GB, exceeding our size limit 1.00 GB. Instance created, header loaded, but data not loaded, please try another (t,v) selection.\n",
      "blimpy.io.base_reader WARNING  Selection size of 104.00 GB, exceeding our size limit 1.00 GB. Instance created, header loaded, but data not loaded, please try another (t,v) selection.\n",
      "blimpy.io.base_reader WARNING  Selection size of 104.00 GB, exceeding our size limit 1.00 GB. Instance created, header loaded, but data not loaded, please try another (t,v) selection.\n",
      "blimpy.io.base_reader WARNING  Selection size of 104.00 GB, exceeding our size limit 1.00 GB. Instance created, header loaded, but data not loaded, please try another (t,v) selection.\n",
      "blimpy.io.base_reader WARNING  Selection size of 104.00 GB, exceeding our size limit 1.00 GB. Instance created, header loaded, but data not loaded, please try another (t,v) selection.\n",
      "blimpy.io.base_reader WARNING  Selection size of 104.00 GB, exceeding our size limit 1.00 GB. Instance created, header loaded, but data not loaded, please try another (t,v) selection.\n",
      "blimpy.io.base_reader WARNING  Selection size of 104.00 GB, exceeding our size limit 1.00 GB. Instance created, header loaded, but data not loaded, please try another (t,v) selection.\n",
      "blimpy.io.base_reader WARNING  Selection size of 104.00 GB, exceeding our size limit 1.00 GB. Instance created, header loaded, but data not loaded, please try another (t,v) selection.\n",
      "blimpy.io.base_reader WARNING  Selection size of 104.00 GB, exceeding our size limit 1.00 GB. Instance created, header loaded, but data not loaded, please try another (t,v) selection.\n",
      "blimpy.io.base_reader WARNING  Selection size of 104.00 GB, exceeding our size limit 1.00 GB. Instance created, header loaded, but data not loaded, please try another (t,v) selection.\n",
      "blimpy.io.base_reader WARNING  Selection size of 104.00 GB, exceeding our size limit 1.00 GB. Instance created, header loaded, but data not loaded, please try another (t,v) selection.\n",
      "blimpy.io.base_reader WARNING  Selection size of 104.00 GB, exceeding our size limit 1.00 GB. Instance created, header loaded, but data not loaded, please try another (t,v) selection.\n",
      "blimpy.io.base_reader WARNING  Selection size of 104.00 GB, exceeding our size limit 1.00 GB. Instance created, header loaded, but data not loaded, please try another (t,v) selection.\n",
      "blimpy.io.base_reader WARNING  Selection size of 104.00 GB, exceeding our size limit 1.00 GB. Instance created, header loaded, but data not loaded, please try another (t,v) selection.\n",
      "blimpy.io.base_reader WARNING  Selection size of 104.00 GB, exceeding our size limit 1.00 GB. Instance created, header loaded, but data not loaded, please try another (t,v) selection.\n",
      "blimpy.io.base_reader WARNING  Selection size of 104.00 GB, exceeding our size limit 1.00 GB. Instance created, header loaded, but data not loaded, please try another (t,v) selection.\n",
      "blimpy.io.base_reader WARNING  Selection size of 104.00 GB, exceeding our size limit 1.00 GB. Instance created, header loaded, but data not loaded, please try another (t,v) selection.\n",
      "blimpy.io.base_reader WARNING  Selection size of 104.00 GB, exceeding our size limit 1.00 GB. Instance created, header loaded, but data not loaded, please try another (t,v) selection.\n",
      "blimpy.io.base_reader WARNING  Selection size of 104.00 GB, exceeding our size limit 1.00 GB. Instance created, header loaded, but data not loaded, please try another (t,v) selection.\n",
      "blimpy.io.base_reader WARNING  Selection size of 104.00 GB, exceeding our size limit 1.00 GB. Instance created, header loaded, but data not loaded, please try another (t,v) selection.\n",
      "blimpy.io.base_reader WARNING  Selection size of 104.00 GB, exceeding our size limit 1.00 GB. Instance created, header loaded, but data not loaded, please try another (t,v) selection.\n",
      "blimpy.io.base_reader WARNING  Selection size of 104.00 GB, exceeding our size limit 1.00 GB. Instance created, header loaded, but data not loaded, please try another (t,v) selection.\n",
      "blimpy.io.base_reader WARNING  Selection size of 104.00 GB, exceeding our size limit 1.00 GB. Instance created, header loaded, but data not loaded, please try another (t,v) selection.\n",
      "blimpy.io.base_reader WARNING  Selection size of 104.00 GB, exceeding our size limit 1.00 GB. Instance created, header loaded, but data not loaded, please try another (t,v) selection.\n",
      "blimpy.io.base_reader WARNING  Selection size of 104.00 GB, exceeding our size limit 1.00 GB. Instance created, header loaded, but data not loaded, please try another (t,v) selection.\n",
      "blimpy.io.base_reader WARNING  Selection size of 104.00 GB, exceeding our size limit 1.00 GB. Instance created, header loaded, but data not loaded, please try another (t,v) selection.\n",
      "blimpy.io.base_reader WARNING  Selection size of 104.00 GB, exceeding our size limit 1.00 GB. Instance created, header loaded, but data not loaded, please try another (t,v) selection.\n",
      "blimpy.io.base_reader WARNING  Selection size of 104.00 GB, exceeding our size limit 1.00 GB. Instance created, header loaded, but data not loaded, please try another (t,v) selection.\n",
      "blimpy.io.base_reader WARNING  Selection size of 104.00 GB, exceeding our size limit 1.00 GB. Instance created, header loaded, but data not loaded, please try another (t,v) selection.\n",
      "blimpy.io.base_reader WARNING  Selection size of 104.00 GB, exceeding our size limit 1.00 GB. Instance created, header loaded, but data not loaded, please try another (t,v) selection.\n",
      "blimpy.io.base_reader WARNING  Selection size of 104.00 GB, exceeding our size limit 1.00 GB. Instance created, header loaded, but data not loaded, please try another (t,v) selection.\n",
      "blimpy.io.base_reader WARNING  Selection size of 104.00 GB, exceeding our size limit 1.00 GB. Instance created, header loaded, but data not loaded, please try another (t,v) selection.\n",
      "blimpy.io.base_reader WARNING  Selection size of 104.00 GB, exceeding our size limit 1.00 GB. Instance created, header loaded, but data not loaded, please try another (t,v) selection.\n",
      "blimpy.io.base_reader WARNING  Selection size of 104.00 GB, exceeding our size limit 1.00 GB. Instance created, header loaded, but data not loaded, please try another (t,v) selection.\n",
      "blimpy.io.base_reader WARNING  Selection size of 104.00 GB, exceeding our size limit 1.00 GB. Instance created, header loaded, but data not loaded, please try another (t,v) selection.\n",
      "blimpy.io.base_reader WARNING  Selection size of 104.00 GB, exceeding our size limit 1.00 GB. Instance created, header loaded, but data not loaded, please try another (t,v) selection.\n",
      "blimpy.io.base_reader WARNING  Selection size of 104.00 GB, exceeding our size limit 1.00 GB. Instance created, header loaded, but data not loaded, please try another (t,v) selection.\n",
      "blimpy.io.base_reader WARNING  Selection size of 104.00 GB, exceeding our size limit 1.00 GB. Instance created, header loaded, but data not loaded, please try another (t,v) selection.\n",
      "blimpy.io.base_reader WARNING  Selection size of 104.00 GB, exceeding our size limit 1.00 GB. Instance created, header loaded, but data not loaded, please try another (t,v) selection.\n",
      "blimpy.io.base_reader WARNING  Selection size of 104.00 GB, exceeding our size limit 1.00 GB. Instance created, header loaded, but data not loaded, please try another (t,v) selection.\n",
      "blimpy.io.base_reader WARNING  Selection size of 188.50 GB, exceeding our size limit 1.00 GB. Instance created, header loaded, but data not loaded, please try another (t,v) selection.\n",
      "blimpy.io.base_reader WARNING  Selection size of 461.50 GB, exceeding our size limit 1.00 GB. Instance created, header loaded, but data not loaded, please try another (t,v) selection.\n",
      "blimpy.io.base_reader WARNING  Selection size of 104.00 GB, exceeding our size limit 1.00 GB. Instance created, header loaded, but data not loaded, please try another (t,v) selection.\n",
      "blimpy.io.base_reader WARNING  Selection size of 104.00 GB, exceeding our size limit 1.00 GB. Instance created, header loaded, but data not loaded, please try another (t,v) selection.\n",
      "blimpy.io.base_reader WARNING  Selection size of 104.00 GB, exceeding our size limit 1.00 GB. Instance created, header loaded, but data not loaded, please try another (t,v) selection.\n",
      "blimpy.io.base_reader WARNING  Selection size of 104.00 GB, exceeding our size limit 1.00 GB. Instance created, header loaded, but data not loaded, please try another (t,v) selection.\n",
      "blimpy.io.base_reader WARNING  Selection size of 104.00 GB, exceeding our size limit 1.00 GB. Instance created, header loaded, but data not loaded, please try another (t,v) selection.\n",
      "blimpy.io.base_reader WARNING  Selection size of 104.00 GB, exceeding our size limit 1.00 GB. Instance created, header loaded, but data not loaded, please try another (t,v) selection.\n",
      "blimpy.io.base_reader WARNING  Selection size of 104.00 GB, exceeding our size limit 1.00 GB. Instance created, header loaded, but data not loaded, please try another (t,v) selection.\n",
      "blimpy.io.base_reader WARNING  Selection size of 104.00 GB, exceeding our size limit 1.00 GB. Instance created, header loaded, but data not loaded, please try another (t,v) selection.\n",
      "blimpy.io.base_reader WARNING  Selection size of 104.00 GB, exceeding our size limit 1.00 GB. Instance created, header loaded, but data not loaded, please try another (t,v) selection.\n",
      "Calculating histograms...Done.\n"
     ]
    },
    {
     "data": {
      "image/png": "[encoded data removed]",
      "text/plain": [
       "<Figure size 1440x720 with 1 Axes>"
      ]
     },
     "metadata": {
      "needs_background": "light"
     },
     "output_type": "display_data"
    }
   ],
   "source": [
    "#Karen's dat files\n",
    "#note some .fils are in: /mnt_blpd12/datax/GC/AGBT19B_999_06\n",
    "\n",
    "dat_dir_kp = '/datax/scratch/ewhite/gbt_dats/perez_gcp_dats/'\n",
    "dat_files_kp = glob.glob(dat_dir_kp+\"/*.dat\")\n",
    "outdir_kp = '/home/ewhite/karen_files_no_dc/'\n",
    "\n",
    "dat_lst_file = open('/home/ewhite/dat_file_organization/karen_dat_paths.lst', 'r')\n",
    "h5_fil_lst_file = open('/home/ewhite/dat_file_organization/karen_fil_paths.lst', 'r')\n",
    "\n",
    "dat_files_kp = []\n",
    "for d in dat_lst_file.readlines():\n",
    "    dat_files_kp.append(d.strip())\n",
    "    \n",
    "fil_files = []\n",
    "for f in h5_fil_lst_file.readlines():\n",
    "    fil_files.append(f.strip())\n",
    "\n",
    "for i in range(len(dat_files_kp)):\n",
    "    remove_DC_spike(dat_files_kp[i], outdir_kp, 'C', False, fil_files[i])\n",
    "\n",
    "#remove_DC_spike(dat_files[0], outdir, 'C')\n",
    "\n",
    "no_dc_dats_kp = glob.glob(outdir_kp+\"/*.dat\")\n",
    "bin_edges_kp, prob_hist_kp = calculate_proportion(no_dc_dats_kp, 'C')\n",
    "plt.figure(figsize=(20, 10))\n",
    "plt.bar(bin_edges_kp[:-1], prob_hist_kp, width = .99) \n",
    "plt.xlabel(\"Frequency [Mhz]\")\n",
    "plt.ylabel(\"Fraction of Hits\")\n",
    "plt.title(\"Spectral Occupancy\")\n",
    "plt.savefig('histogram_karen_dats.png')\n",
    "plt.show()"
   ]
  },
  {
   "cell_type": "code",
   "execution_count": null,
   "metadata": {},
   "outputs": [],
   "source": [
    "#Raffy's dat files"
   ]
  }
 ],
 "metadata": {
  "kernelspec": {
   "display_name": "Python 3",
   "language": "python",
   "name": "python3"
  },
  "language_info": {
   "codemirror_mode": {
    "name": "ipython",
    "version": 3
   },
   "file_extension": ".py",
   "mimetype": "text/x-python",
   "name": "python",
   "nbconvert_exporter": "python",
   "pygments_lexer": "ipython3",
   "version": "3.7.6"
  }
 },
 "nbformat": 4,
 "nbformat_minor": 4
}

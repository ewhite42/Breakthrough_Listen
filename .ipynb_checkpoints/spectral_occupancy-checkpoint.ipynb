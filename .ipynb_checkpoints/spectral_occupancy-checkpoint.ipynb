{
 "cells": [
  {
   "cell_type": "code",
   "execution_count": 17,
   "metadata": {},
   "outputs": [],
   "source": [
    "import numpy as np\n",
    "import pandas as pd\n",
    "import matplotlib.pyplot as plt\n",
    "import turbo_seti.find_event as find\n",
    "import glob"
   ]
  },
  {
   "cell_type": "code",
   "execution_count": 18,
   "metadata": {},
   "outputs": [],
   "source": [
    "%matplotlib inline"
   ]
  },
  {
   "cell_type": "code",
   "execution_count": 19,
   "metadata": {},
   "outputs": [],
   "source": [
    "dat_files = [\n",
    "    \"dat_files/GBT_57523_69379_HIP17147_fine.dat\", \n",
    "    \"dat_files/GBT_57606_50058_HIP20901_fine.dat\",\n",
    "    \"dat_files/GBT_57456_02669_HIP39826_fine.dat\",\n",
    "    \"dat_files/GBT_57803_80733_HIP4436_fine.dat\",  \n",
    "    \"dat_files/GBT_57599_55512_HIP45493_fine.dat\", \n",
    "    \"dat_files/GBT_57459_34297_HIP65352_fine.dat\", \n",
    "    \"dat_files/GBT_57650_54573_HIP66704_fine.dat\", \n",
    "    \"dat_files/GBT_57523_22406_HIP74981_fine.dat\", \n",
    "    \"dat_files/GBT_57680_15520_HIP7981_fine.dat\",  \n",
    "    \"dat_files/GBT_57664_79761_HIP82860_fine.dat\" \n",
    "]"
   ]
  },
  {
   "cell_type": "markdown",
   "metadata": {},
   "source": [
    "# Demo from website\n",
    "\n",
    "https://www.geeksforgeeks.org/scipy-stats-histogram-function-python/"
   ]
  },
  {
   "cell_type": "code",
   "execution_count": 20,
   "metadata": {},
   "outputs": [
    {
     "name": "stdout",
     "output_type": "stream",
     "text": [
      "No. of points in each bin :  [0 2 4 1]\n",
      "Size of the bins          :  [0 1 2 3 4]\n"
     ]
    },
    {
     "data": {
      "image/png": "[encoded data removed]",
      "text/plain": [
       "<Figure size 432x288 with 1 Axes>"
      ]
     },
     "metadata": {
      "needs_background": "light"
     },
     "output_type": "display_data"
    }
   ],
   "source": [
    "# building the histogram  \n",
    "import scipy \n",
    "import numpy as np  \n",
    "import matplotlib.pyplot as plt \n",
    "  \n",
    "hist, bin_edges = np.histogram([1, 1, 2, 2, 2, 2, 3], \n",
    "                                       bins = range(5)) \n",
    "  \n",
    "# Checking the results \n",
    "print (\"No. of points in each bin : \", hist) \n",
    "print (\"Size of the bins          : \", bin_edges) \n",
    "  \n",
    "# plotting the histogram \n",
    "plt.bar(bin_edges[:-1], hist, width = 1) \n",
    "plt.xlim(min(bin_edges), max(bin_edges)) \n",
    "plt.show() "
   ]
  },
  {
   "cell_type": "code",
   "execution_count": 41,
   "metadata": {},
   "outputs": [],
   "source": [
    "def calculate_hist(dat_file, bin_width=1): \n",
    "    \"\"\"calculates a histogram of the number of hits for a single .dat file\"\"\"\n",
    "    #read the file into a pandas dataframe\n",
    "    tbl = find.read_dat(dat_file)\n",
    "\n",
    "    #make the bins for the histogram\n",
    "    min_freq = int(min(tbl[\"Freq\"]))\n",
    "    max_freq = np.round(max(tbl[\"Freq\"]))\n",
    "    #bins = np.arange(min_freq, max_freq, bin_width)\n",
    "    bins = np.linspace(min_freq, max_freq, int((max_freq-min_freq)/bin_width) , endpoint=True)\n",
    "    hist, bin_edges = np.histogram(tbl[\"Freq\"], bins=bins)\n",
    "    return hist, bin_edges"
   ]
  },
  {
   "cell_type": "code",
   "execution_count": 47,
   "metadata": {},
   "outputs": [],
   "source": [
    "def calculate_proportion(file_list, bin_width=1, GBT=False):\n",
    "    \"\"\"Takes in a list of .dat files and makes a true/false table of hits in a frequency bin\"\"\"\n",
    "    edges = []\n",
    "    histograms = []\n",
    "    min_freq = 0\n",
    "    max_freq = 1e9\n",
    "    \n",
    "    #calculate histogram for the .dat file and check the boundaries on the data\n",
    "    for file in file_list:\n",
    "        hist, bin_edges = calculate_hist(file, bin_width)\n",
    "        if min(bin_edges) > min_freq:\n",
    "            min_freq = min(bin_edges)\n",
    "        if max(bin_edges) < max_freq:\n",
    "            max_freq = max(bin_edges)\n",
    "        edges.append(bin_edges)\n",
    "        histograms.append(hist)\n",
    "    \n",
    "    #make sure all lists are within the boundaries\n",
    "    for i in range(len(edges)):\n",
    "        within_boundaries = np.where( (edges[i] >= min_freq) & (edges[i] <= max_freq) ) #get the boundaries of the tightest frequency range\n",
    "        edges[i] = edges[i][within_boundaries] # take only the entries within that range\n",
    "        freq_boundaries = within_boundaries[0][:-1] # since the bins list has one more entry than frequencies, I will drop the last entry. the hit count will correspond with the frequency at the start of its bin\n",
    "        histograms[i] = histograms[i][freq_boundaries] # take only the entries within that range\n",
    "        \n",
    "    #create the dataframe and add the frequency bins to column 0\n",
    "    df = pd.DataFrame()\n",
    "    df.insert(0, \"freq\", edges[0][:-1])\n",
    "    \n",
    "    #check if there is a hit in the frequency bin and insert value to dataframe\n",
    "    for i in range(len(histograms)):\n",
    "        colname = \"file\"+str(i)\n",
    "        found_hit = histograms[i] > 0\n",
    "        df.insert(len(df.columns), colname, found_hit.astype(int))\n",
    "    \n",
    "    #exclude entries in the GBT data due to the notch filter exclusion\n",
    "    #bin_edges = np.arange(min_freq, max_freq+.1, bin_width)\n",
    "    bin_edges = np.linspace(min_freq, max_freq, int((max_freq-min_freq)/bin_width), endpoint=True)\n",
    "    if GBT:\n",
    "        df = df[(df[\"freq\"] < 1200) | (df[\"freq\"] > 1341)]\n",
    "        first_edge = np.arange(min_freq, 1200, bin_width)\n",
    "        second_edge= np.arange(1341, max_freq, bin_width) #may or may not need max_freq+1\n",
    "        bin_edges = np.append(first_edge, second_edge)\n",
    "    \n",
    "        \n",
    "    # sum up the number of entries that have a hit and divide by the number of .dat files\n",
    "    data_labels = df.columns[2:]\n",
    "    total = df[\"file0\"]\n",
    "    for label in data_labels:\n",
    "        total = total + df[label]\n",
    "    \n",
    "    return bin_edges, total/len(file_list) "
   ]
  },
  {
   "cell_type": "code",
   "execution_count": 55,
   "metadata": {},
   "outputs": [
    {
     "data": {
      "text/plain": [
       "(6070000, 6069999)"
      ]
     },
     "execution_count": 55,
     "metadata": {},
     "output_type": "execute_result"
    }
   ],
   "source": [
    "bin_edges, prob_hist = calculate_proportion(dat_files, bin_width=.0001, GBT=True)"
   ]
  },
  {
   "cell_type": "code",
   "execution_count": null,
   "metadata": {},
   "outputs": [],
   "source": [
    "plt.figure(figsize=(20, 10))\n",
    "plt.bar(bin_edges[:-1], prob_hist)#, width = 1) \n",
    "plt.xlabel(\"Frequency [Mhz]\")\n",
    "plt.ylabel(\"Probability of hit\")\n",
    "plt.title(\"GBT L-Band Spectral Occupancy\")\n",
    "plt.savefig(\"Spectral_Occupancy_one_khz_bin.png\")\n",
    "plt.show()"
   ]
  },
  {
   "cell_type": "markdown",
   "metadata": {},
   "source": [
    "One potential issue with just checking if there is a hit in a bin and marking it as true, regardless of how many hits there are, is that there are bins with 1-2 hits and these are regarded the same as bins that have hits in the hundreds. \n",
    "\n",
    "Also, the runtime for calculating the histogram is FAR shorter than the runtime to make its corresponding plot. \n",
    "\n",
    "It would be interesting to see if there is a way to account for how many hits there are in the bin. \n",
    "\n",
    "Or this could be resolved with adding more than 10 files to my dataset OR by decreasing the frequency resolution from order Mhz to something smaller. "
   ]
  },
  {
   "cell_type": "code",
   "execution_count": 14,
   "metadata": {},
   "outputs": [],
   "source": [
    "more_data = glob.glob(\"full_lband/*.dat\")"
   ]
  },
  {
   "cell_type": "code",
   "execution_count": 36,
   "metadata": {},
   "outputs": [],
   "source": [
    "#more_bin_edges, more_prob_hist = calculate_proportion(more_data[:10])\n",
    "more_bin_edges, more_prob_hist = calculate_proportion(more_data[16:28])"
   ]
  },
  {
   "cell_type": "markdown",
   "metadata": {},
   "source": [
    "I think some of the .dat files might be empty. I will need to go through and figure out which ones are empty and remove them"
   ]
  },
  {
   "cell_type": "code",
   "execution_count": 37,
   "metadata": {},
   "outputs": [
    {
     "data": {
      "image/png": "[encoded data removed]",
      "text/plain": [
       "<Figure size 1440x720 with 1 Axes>"
      ]
     },
     "metadata": {
      "needs_background": "light"
     },
     "output_type": "display_data"
    }
   ],
   "source": [
    "plt.figure(figsize=(20, 10))\n",
    "plt.bar(bin_edges[:-1], prob_hist)#, width = 1) \n",
    "plt.xlabel(\"Frequency [Mhz]\")\n",
    "plt.ylabel(\"Probability of hit\")\n",
    "plt.title(\"GBT L-Band Spectral Occupancy\")\n",
    "plt.show()"
   ]
  },
  {
   "cell_type": "code",
   "execution_count": null,
   "metadata": {},
   "outputs": [],
   "source": []
  }
 ],
 "metadata": {
  "kernelspec": {
   "display_name": "Python 3",
   "language": "python",
   "name": "python3"
  },
  "language_info": {
   "codemirror_mode": {
    "name": "ipython",
    "version": 3
   },
   "file_extension": ".py",
   "mimetype": "text/x-python",
   "name": "python",
   "nbconvert_exporter": "python",
   "pygments_lexer": "ipython3",
   "version": "3.7.6"
  }
 },
 "nbformat": 4,
 "nbformat_minor": 4
}
